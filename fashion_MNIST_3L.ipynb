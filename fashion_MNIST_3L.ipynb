{
 "cells": [
  {
   "cell_type": "code",
   "execution_count": 2,
   "metadata": {},
   "outputs": [],
   "source": [
    "import tensorflow\n",
    "from tensorflow import keras\n",
    "import numpy as np"
   ]
  },
  {
   "cell_type": "code",
   "execution_count": 3,
   "metadata": {},
   "outputs": [],
   "source": [
    "%matplotlib inline"
   ]
  },
  {
   "cell_type": "code",
   "execution_count": 4,
   "metadata": {},
   "outputs": [],
   "source": [
    "import matplotlib.pyplot as plt"
   ]
  },
  {
   "cell_type": "code",
   "execution_count": 5,
   "metadata": {},
   "outputs": [],
   "source": [
    "batch_size = 128\n",
    "num_class = 10\n",
    "epochs = 20"
   ]
  },
  {
   "cell_type": "code",
   "execution_count": 6,
   "metadata": {},
   "outputs": [
    {
     "name": "stdout",
     "output_type": "stream",
     "text": [
      "Downloading data from https://storage.googleapis.com/tensorflow/tf-keras-datasets/train-labels-idx1-ubyte.gz\n",
      "32768/29515 [=================================] - 0s 0us/step\n",
      "Downloading data from https://storage.googleapis.com/tensorflow/tf-keras-datasets/train-images-idx3-ubyte.gz\n",
      "26427392/26421880 [==============================] - 2s 0us/step\n",
      "Downloading data from https://storage.googleapis.com/tensorflow/tf-keras-datasets/t10k-labels-idx1-ubyte.gz\n",
      "8192/5148 [===============================================] - 0s 0us/step\n",
      "Downloading data from https://storage.googleapis.com/tensorflow/tf-keras-datasets/t10k-images-idx3-ubyte.gz\n",
      "4423680/4422102 [==============================] - 0s 0us/step\n"
     ]
    }
   ],
   "source": [
    "(x_train, y_train), (x_test, y_test) = keras.datasets.fashion_mnist.load_data()"
   ]
  },
  {
   "cell_type": "code",
   "execution_count": 7,
   "metadata": {},
   "outputs": [
    {
     "data": {
      "text/plain": [
       "60000"
      ]
     },
     "execution_count": 7,
     "metadata": {},
     "output_type": "execute_result"
    }
   ],
   "source": [
    "len(x_train)"
   ]
  },
  {
   "cell_type": "code",
   "execution_count": 8,
   "metadata": {},
   "outputs": [
    {
     "data": {
      "image/png": "[encoded data removed]",
      "text/plain": [
       "<Figure size 432x288 with 10 Axes>"
      ]
     },
     "metadata": {
      "needs_background": "light"
     },
     "output_type": "display_data"
    }
   ],
   "source": [
    "for i in range(10):\n",
    "    plt.subplot(2, 5, i+1)\n",
    "    plt.title(\"Label: \" + str(i))\n",
    "    plt.imshow(x_train[i].reshape(28, 28), cmap=None)\n"
   ]
  },
  {
   "cell_type": "code",
   "execution_count": 9,
   "metadata": {},
   "outputs": [],
   "source": [
    "x_train, x_test = x_train / 255.0, x_test / 255.0"
   ]
  },
  {
   "cell_type": "code",
   "execution_count": 10,
   "metadata": {},
   "outputs": [],
   "source": [
    "model = keras.models.Sequential([\n",
    "    # 直列に並べる\n",
    "    keras.layers.Flatten(),\n",
    "    # 512個のノードを用意、relu = -:0, +:x\n",
    "    keras.layers.Dense(512, activation='relu'),\n",
    "    # 一部データを捨てる\n",
    "    keras.layers.Dropout(0.2),\n",
    "    # 多クラス -> softmax\n",
    "    # 10個に集約する\n",
    "    keras.layers.Dense(10 , activation='softmax')\n",
    "])"
   ]
  },
  {
   "cell_type": "code",
   "execution_count": 11,
   "metadata": {},
   "outputs": [],
   "source": [
    "# 最適化関数 RMSpropAdam SGD\n",
    "# categorical_crossentropy: One-Hot-Encoding [1, 0, 0]とか\n",
    "# sparse_categorical_crossentropy: 1, 2, 4とか、ターゲットが分類できる時\n",
    "\n",
    "\n",
    "model.compile(optimizer='adam', loss='sparse_categorical_crossentropy', metrics=['accuracy'])"
   ]
  },
  {
   "cell_type": "code",
   "execution_count": 12,
   "metadata": {},
   "outputs": [
    {
     "name": "stdout",
     "output_type": "stream",
     "text": [
      "Epoch 1/20\n",
      "60000/60000 [==============================] - 15s 246us/step - loss: 0.4953 - acc: 0.8219\n",
      "Epoch 2/20\n",
      "60000/60000 [==============================] - 15s 256us/step - loss: 0.3841 - acc: 0.8584\n",
      "Epoch 3/20\n",
      "60000/60000 [==============================] - 15s 251us/step - loss: 0.3499 - acc: 0.8707\n",
      "Epoch 4/20\n",
      "60000/60000 [==============================] - 15s 249us/step - loss: 0.3316 - acc: 0.8781\n",
      "Epoch 5/20\n",
      "60000/60000 [==============================] - 15s 249us/step - loss: 0.3153 - acc: 0.8827\n",
      "Epoch 6/20\n",
      "60000/60000 [==============================] - 14s 227us/step - loss: 0.3029 - acc: 0.8874\n",
      "Epoch 7/20\n",
      "60000/60000 [==============================] - 16s 262us/step - loss: 0.2884 - acc: 0.8922\n",
      "Epoch 8/20\n",
      "60000/60000 [==============================] - 13s 224us/step - loss: 0.2788 - acc: 0.8955\n",
      "Epoch 9/20\n",
      "60000/60000 [==============================] - 13s 225us/step - loss: 0.2732 - acc: 0.8979\n",
      "Epoch 10/20\n",
      "60000/60000 [==============================] - 14s 229us/step - loss: 0.2620 - acc: 0.9014\n",
      "Epoch 11/20\n",
      "60000/60000 [==============================] - 14s 236us/step - loss: 0.2569 - acc: 0.9030\n",
      "Epoch 12/20\n",
      "60000/60000 [==============================] - 15s 246us/step - loss: 0.2484 - acc: 0.9065\n",
      "Epoch 13/20\n",
      "60000/60000 [==============================] - 15s 242us/step - loss: 0.2430 - acc: 0.9097\n",
      "Epoch 14/20\n",
      "60000/60000 [==============================] - 14s 230us/step - loss: 0.2382 - acc: 0.9116\n",
      "Epoch 15/20\n",
      "60000/60000 [==============================] - 14s 237us/step - loss: 0.2312 - acc: 0.9139\n",
      "Epoch 16/20\n",
      "60000/60000 [==============================] - 15s 244us/step - loss: 0.2264 - acc: 0.9133\n",
      "Epoch 17/20\n",
      "60000/60000 [==============================] - 14s 229us/step - loss: 0.2233 - acc: 0.9154\n",
      "Epoch 18/20\n",
      "60000/60000 [==============================] - 14s 227us/step - loss: 0.2164 - acc: 0.9194\n",
      "Epoch 19/20\n",
      "60000/60000 [==============================] - 14s 233us/step - loss: 0.2147 - acc: 0.9194\n",
      "Epoch 20/20\n",
      "60000/60000 [==============================] - 14s 231us/step - loss: 0.2069 - acc: 0.9212\n"
     ]
    },
    {
     "data": {
      "text/plain": [
       "<tensorflow.python.keras.callbacks.History at 0x1229e908>"
      ]
     },
     "execution_count": 12,
     "metadata": {},
     "output_type": "execute_result"
    }
   ],
   "source": [
    "model.fit(x_train, y_train, epochs=20)"
   ]
  },
  {
   "cell_type": "code",
   "execution_count": 13,
   "metadata": {},
   "outputs": [
    {
     "name": "stdout",
     "output_type": "stream",
     "text": [
      "10000/10000 [==============================] - 0s 35us/step\n"
     ]
    },
    {
     "data": {
      "text/plain": [
       "[0.3386173463881016, 0.8931]"
      ]
     },
     "execution_count": 13,
     "metadata": {},
     "output_type": "execute_result"
    }
   ],
   "source": [
    "model.evaluate(x_test, y_test)\n"
   ]
  },
  {
   "cell_type": "code",
   "execution_count": 14,
   "metadata": {},
   "outputs": [
    {
     "data": {
      "text/plain": [
       "array([9, 2, 1, 1, 6, 1, 4, 6, 5, 7], dtype=uint8)"
      ]
     },
     "execution_count": 14,
     "metadata": {},
     "output_type": "execute_result"
    }
   ],
   "source": [
    "y_test[0:10]"
   ]
  },
  {
   "cell_type": "code",
   "execution_count": null,
   "metadata": {},
   "outputs": [],
   "source": []
  },
  {
   "cell_type": "code",
   "execution_count": null,
   "metadata": {},
   "outputs": [],
   "source": []
  },
  {
   "cell_type": "code",
   "execution_count": 15,
   "metadata": {},
   "outputs": [],
   "source": [
    "# それぞれの画像に対し、0~9 のどれに一番近いか推定\n",
    "predicted = model.predict(x_test[0:10])"
   ]
  },
  {
   "cell_type": "code",
   "execution_count": 16,
   "metadata": {},
   "outputs": [
    {
     "data": {
      "image/png": "[encoded data removed]",
      "text/plain": [
       "<Figure size 432x288 with 10 Axes>"
      ]
     },
     "metadata": {
      "needs_background": "light"
     },
     "output_type": "display_data"
    }
   ],
   "source": [
    "for i in range(10):\n",
    "    plt.subplot(2, 5, i+1)\n",
    "    plt.title(\"pre: \" + str(np.argmax(predicted[i])))\n",
    "    plt.imshow(x_test[i].reshape(28, 28), cmap=None)"
   ]
  },
  {
   "cell_type": "code",
   "execution_count": null,
   "metadata": {},
   "outputs": [],
   "source": []
  },
  {
   "cell_type": "code",
   "execution_count": null,
   "metadata": {},
   "outputs": [],
   "source": []
  },
  {
   "cell_type": "code",
   "execution_count": null,
   "metadata": {},
   "outputs": [],
   "source": []
  }
 ],
 "metadata": {
  "kernelspec": {
   "display_name": "Python 3",
   "language": "python",
   "name": "python3"
  },
  "language_info": {
   "codemirror_mode": {
    "name": "ipython",
    "version": 3
   },
   "file_extension": ".py",
   "mimetype": "text/x-python",
   "name": "python",
   "nbconvert_exporter": "python",
   "pygments_lexer": "ipython3",
   "version": "3.6.6"
  }
 },
 "nbformat": 4,
 "nbformat_minor": 2
}
